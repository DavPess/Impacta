{
  "nbformat": 4,
  "nbformat_minor": 0,
  "metadata": {
    "colab": {
      "provenance": [],
      "authorship_tag": "ABX9TyNFVqJthMh43qPr5YSMN+UO",
      "include_colab_link": true
    },
    "kernelspec": {
      "name": "python3",
      "display_name": "Python 3"
    },
    "language_info": {
      "name": "python"
    }
  },
  "cells": [
    {
      "cell_type": "markdown",
      "metadata": {
        "id": "view-in-github",
        "colab_type": "text"
      },
      "source": [
        "<a href=\"https://colab.research.google.com/github/DavPess/Impacta/blob/main/Untitled16.ipynb\" target=\"_parent\"><img src=\"https://colab.research.google.com/assets/colab-badge.svg\" alt=\"Open In Colab\"/></a>"
      ]
    },
    {
      "cell_type": "code",
      "execution_count": null,
      "metadata": {
        "id": "_sJbCifasFbh"
      },
      "outputs": [],
      "source": [
        "def enigma1(x, y):\n",
        "  x += 20\n",
        "  y += 50\n",
        "def enigma2():\n",
        "  x = 30\n",
        "  y = 60\n",
        "def enigma3():\n",
        "  global x, y\n",
        "  x += 40\n",
        "  y += 70\n",
        "x = 100\n",
        "y = 200 \n",
        "enigma1(x, y)\n",
        "print(x, y)\n",
        "enigma2()\n",
        "print(x, y)\n",
        "enigma3()\n",
        "print(x, y)\n",
        "\n"
      ]
    },
    {
      "cell_type": "code",
      "source": [
        "def bissexto(ano):\n",
        "  return ano%4==0 and ano%100!=0 or ano%400==0\n",
        "def qtd_dias(mes, ano):\n",
        "  if mes==2:\n",
        "    if bissexto(ano):\n",
        "      return 29\n",
        "    else:\n",
        "      return 28\n",
        "  if mes==4 or mes==6 or mes==9 or mes==11:\n",
        "    return 30\n",
        "  return 31\n",
        "def nome_mes(mes):\n",
        "  meses = ('janeiro', 'fevereiro', 'março', 'abril', 'maio', 'junho', 'julho', 'agosto', 'setembro', 'outubro', 'novembro', 'dezembro')\n",
        "  print(meses[mes-1])\n",
        "  \n",
        "mes = int(input('mês? '))\n",
        "ano = int(input('ano? '))\n",
        "\n",
        "print(f'{nome_mes(mes)} de {ano} terá {qtd_dias(mes, ano)} dias')"
      ],
      "metadata": {
        "colab": {
          "base_uri": "https://localhost:8080/"
        },
        "id": "f8ZrdrHit60o",
        "outputId": "d1d930f6-d044-4a91-98fe-cbe25b8b8715"
      },
      "execution_count": null,
      "outputs": [
        {
          "output_type": "stream",
          "name": "stdout",
          "text": [
            "mês? 2\n",
            "ano? 1998\n",
            "fevereiro\n",
            "None de 1998 terá 28 dias\n"
          ]
        }
      ]
    },
    {
      "cell_type": "code",
      "source": [
        "def quociente(x, y):\n",
        "  return x / y\n",
        "x = int(input('dividendo? '))\n",
        "\n",
        "while True:\n",
        "  y = int(input('divisor? '))\n",
        "  if y != 0: break\n",
        "print(f'{x} / {y} = {quociente(x, y)}')\n"
      ],
      "metadata": {
        "id": "3KCIwlGuzood"
      },
      "execution_count": null,
      "outputs": []
    },
    {
      "cell_type": "code",
      "source": [
        "x = 0\n",
        "while x <= 10:\n",
        "  y = 0\n",
        "  while y <=10:\n",
        "      print(f'{x} x {y} = {x * y}')\n",
        "  y += 1\n",
        "  print(x, y)\n",
        "  x += 1\n",
        "  \n",
        "  "
      ],
      "metadata": {
        "id": "vBOA2utgzrqt"
      },
      "execution_count": null,
      "outputs": []
    },
    {
      "cell_type": "code",
      "source": [
        "vale_presente =  float(input('Valor? '))\n",
        "\n",
        "while vale_presente > 0:\n",
        "  mercadoria = float(input('Mercadoria? '))\n",
        "  if mercadoria > vale_presente:\n",
        "    print('Muito caro! Escolha outra mercadoria')\n",
        "    continue\n",
        "  vale_presente -= mercadoria\n",
        "\n",
        "\n",
        "print('Obrigado pela compra! ')\n",
        "  "
      ],
      "metadata": {
        "colab": {
          "base_uri": "https://localhost:8080/"
        },
        "id": "AQWR8mTM2VKM",
        "outputId": "fc829e75-7a9b-4fb5-a0bd-81d742341eb6"
      },
      "execution_count": null,
      "outputs": [
        {
          "output_type": "stream",
          "name": "stdout",
          "text": [
            "Valor? 200\n",
            "Mercadoria? 199\n",
            "Mercadoria? 1\n",
            "Obrigado pela compra! \n"
          ]
        }
      ]
    },
    {
      "cell_type": "code",
      "source": [
        "n = int(input('n? '))\n",
        "\n",
        "comeco = 0\n",
        "final = n\n",
        "passo = -1\n",
        "\n",
        "for i in range(comeco, final):\n",
        "  print(i, end=' ')\n",
        "print()\n",
        "for i in range(final - 1, comeco - 1, passo):\n",
        "  print(i, end=' ')\n"
      ],
      "metadata": {
        "id": "tRDa6BZT5fCz"
      },
      "execution_count": null,
      "outputs": []
    },
    {
      "cell_type": "code",
      "source": [
        "from time import sleep\n",
        "dias = 7 \n",
        "while dias > 0:\n",
        "  for h in range (24):\n",
        "    for m in range(60):\n",
        "      for s in range(60):\n",
        "        print(f'{h:02}:{m:02}:{s:02}')\n",
        "        #sleep(1)\n",
        "  dias -=1"
      ],
      "metadata": {
        "id": "P1YbM_Cu8-yS"
      },
      "execution_count": null,
      "outputs": []
    },
    {
      "cell_type": "code",
      "source": [
        "idades = [45, 67, 12, 30, 51, 24]\n",
        "tamanho = len(idades)\n",
        "idades[tamanho] += 1\n",
        "print(idades)"
      ],
      "metadata": {
        "id": "AVapdSII9Cwt"
      },
      "execution_count": null,
      "outputs": []
    },
    {
      "cell_type": "code",
      "source": [
        "frase = 'A linda casa amarela!'\n",
        "tamanho = len(frase)\n",
        "frase[tamanho-1] = '?'\n",
        "print(frase)"
      ],
      "metadata": {
        "id": "U3Ti9OMIDdHn"
      },
      "execution_count": null,
      "outputs": []
    }
  ]
}